{
 "cells": [
  {
   "cell_type": "code",
   "execution_count": 1,
   "metadata": {},
   "outputs": [],
   "source": [
    "import matplotlib.pyplot as lt\n",
    "import numpy as np\n",
    "import torch\n",
    "from torch_geometric.datasets import QM9,ZINC\n",
    "import networkx as nx\n",
    "from utils import to_network,truncted_BFS,path2mp,mol_paths\n"
   ]
  },
  {
   "cell_type": "code",
   "execution_count": 3,
   "metadata": {},
   "outputs": [],
   "source": [
    "zc=ZINC('dataset/zinc_origin')\n",
    "qm9=QM9('dataset/QM9')\n"
   ]
  },
  {
   "cell_type": "code",
   "execution_count": 7,
   "metadata": {},
   "outputs": [],
   "source": [
    "bonds_dec = {0: '-', 1: '=', 2: '#', 3: '~'}\n",
    "qm9_node_type={'H': 0, 'C': 1, 'N': 2, 'O': 3, 'F': 4}\n",
    "qm9_id2ele={v:k for k,v in qm9_node_type.items()}\n",
    "\n",
    "\n",
    "zinc_bond_dict = {1: '-', 2: '=', 3: '#'}\n",
    "zinc_bond_dec = {0:' ', 1: '-', 2: '=', 3: '#'}\n",
    "zinc_atom_dict = {'C': 0, 'O': 1, 'N': 2, 'F': 3, 'C H1': 4, 'S': 5, 'Cl': 6, 'O -': 7, 'N H1 +': 8, 'Br': 9,\n",
    "                  'N H3 +': 10, 'N H2 +': 11, 'N +': 12, 'N -': 13, 'S -': 14, 'I': 15, 'P': 16, 'O H1 +': 17,\n",
    "                  'N H1 -': 18, 'O +': 19, 'S +': 20, 'P H1': 21, 'P H2': 22, 'C H2 -': 23, 'P +': 24, 'S H1 +': 25,\n",
    "                  'C H1 -': 26, 'P H1 +': 27}\n",
    "zinc_atom_dict={v:k for k,v in zinc_atom_dict.items()}\n"
   ]
  },
  {
   "cell_type": "code",
   "execution_count": 10,
   "metadata": {},
   "outputs": [
    {
     "name": "stderr",
     "output_type": "stream",
     "text": [
      "100%|██████████| 130831/130831 [06:17<00:00, 346.36it/s]\n"
     ]
    }
   ],
   "source": [
    "index=list(range(qm9.len()))\n",
    "from random import shuffle\n",
    "from tqdm import tqdm\n",
    "shuffle(index)\n",
    "\n",
    "x=[]\n",
    "y3=[]\n",
    "mp3_set=set([])\n",
    "y4=[]\n",
    "mp4_set=set([])\n",
    "\n",
    "for i in tqdm(index):\n",
    "    t=qm9[i]\n",
    "    edge_attr=[bonds_dec[int(i)] for i in t.edge_attr.argmax(dim=1)]\n",
    "    node_attr={k:qm9_id2ele[int(i)] for k,i in enumerate(t.x[:,:5].argmax(dim=1))}\n",
    "    s=to_network(t.edge_index,edge_attr,node_attr)\n",
    "    paths=mol_paths(s,4)\n",
    "    rt=path2mp(s,paths)\n",
    "    for j in rt[3]:\n",
    "        if 'H' not in j:\n",
    "            mp3_set.add(j)\n",
    "    y3.append(len(mp3_set))\n",
    "    for j in rt[4]:\n",
    "        if 'H' not in j:\n",
    "            mp4_set.add(j)\n",
    "    y4.append(len(mp4_set))\n"
   ]
  },
  {
   "cell_type": "code",
   "execution_count": 11,
   "metadata": {},
   "outputs": [
    {
     "name": "stderr",
     "output_type": "stream",
     "text": [
      " 18%|█▊        | 40000/220011 [02:42<12:12, 245.66it/s]\n"
     ]
    }
   ],
   "source": [
    "index=list(range(zc.len()))\n",
    "shuffle(index)\n",
    "\n",
    "x=[]\n",
    "y3_zinc=[]\n",
    "mp3_set=set([])\n",
    "y4_zinc=[]\n",
    "mp4_set=set([])\n",
    "count=0\n",
    "for i in tqdm(index):\n",
    "    t=zc[i]\n",
    "    edge_attr=[zinc_bond_dec[int(i)] for i in t.edge_attr]\n",
    "    atomx=torch.clip(t.x,max=7)\n",
    "    atomx=atomx.squeeze()\n",
    "    node_attr={k:zinc_atom_dict[int(i)] for k,i in enumerate(atomx)}\n",
    "    s=to_network(t.edge_index,edge_attr,node_attr)\n",
    "    paths=mol_paths(s,4)\n",
    "    rt=path2mp(s,paths)\n",
    "    for j in rt[3]:\n",
    "        if 'H' not in j:\n",
    "            mp3_set.add(j)\n",
    "    y3_zinc.append(len(mp3_set))\n",
    "    for j in rt[4]:\n",
    "        if 'H' not in j:\n",
    "            mp4_set.add(j)\n",
    "    y4_zinc.append(len(mp4_set))\n",
    "    count+=1\n",
    "    if count>40000:\n",
    "        break"
   ]
  },
  {
   "cell_type": "code",
   "execution_count": 12,
   "metadata": {},
   "outputs": [
    {
     "name": "stderr",
     "output_type": "stream",
     "text": [
      "/data/users/wgj/miniconda3/envs/pygeo/lib/python3.7/site-packages/ipykernel_launcher.py:9: UserWarning: FixedFormatter should only be used together with FixedLocator\n",
      "  if __name__ == '__main__':\n",
      "/data/users/wgj/miniconda3/envs/pygeo/lib/python3.7/site-packages/ipykernel_launcher.py:10: UserWarning: FixedFormatter should only be used together with FixedLocator\n",
      "  # Remove the CWD from sys.path while we load stuff.\n",
      "/data/users/wgj/miniconda3/envs/pygeo/lib/python3.7/site-packages/ipykernel_launcher.py:20: UserWarning: FixedFormatter should only be used together with FixedLocator\n",
      "/data/users/wgj/miniconda3/envs/pygeo/lib/python3.7/site-packages/ipykernel_launcher.py:21: UserWarning: FixedFormatter should only be used together with FixedLocator\n",
      "The PostScript backend does not support transparency; partially transparent artists will be rendered opaque.\n",
      "The PostScript backend does not support transparency; partially transparent artists will be rendered opaque.\n",
      "The PostScript backend does not support transparency; partially transparent artists will be rendered opaque.\n",
      "The PostScript backend does not support transparency; partially transparent artists will be rendered opaque.\n"
     ]
    },
    {
     "data": {
      "image/png": "[encoded data removed]",
      "text/plain": [
       "<Figure size 720x360 with 2 Axes>"
      ]
     },
     "metadata": {
      "needs_background": "light"
     },
     "output_type": "display_data"
    }
   ],
   "source": [
    "\n",
    "fig,[ax1,ax2]=lt.subplots(nrows=1,ncols=2,figsize=(10,5))\n",
    "lw=4\n",
    "ticksize=10\n",
    "fontsize=12\n",
    "ax1.plot(list(range(qm9.len())),y4,lw=lw,color='#3A86FF',label='Metapath length=4')\n",
    "ax1.plot(list(range(qm9.len())),y3,lw=lw,color='#FF006E',label='Metapath length=3')\n",
    "ax1.set_xlim(-1000,40000)\n",
    "ax1.set_ylabel('Metapath Type Count',fontsize=fontsize)\n",
    "ax1.set_xticklabels(ax1.get_xticks(),minor=True,size=ticksize)\n",
    "ax1.set_yticklabels(ax1.get_yticks(),minor=True,size=ticksize)\n",
    "ax1.set_xlabel('Number of Molecules',fontsize=fontsize)\n",
    "ax1.legend(fontsize=fontsize)\n",
    "ax1.set_title('QM9 dataset',fontsize=fontsize)\n",
    "\n",
    "#ax1.set_xlim(0,5000)\n",
    "ax2.plot(list(range(len(y4_zinc))),y4_zinc,lw=lw,color='#3A86FF',label='Metapath length=4')\n",
    "ax2.plot(list(range(len(y3_zinc))),y3_zinc,lw=lw,color='#FF006E',label='Metapath length=3')\n",
    "ax2.set_xlim(-1000,40000)\n",
    "ax2.set_ylabel('Metapath Type Count',fontsize=fontsize)\n",
    "ax2.set_xticklabels(ax1.get_xticks(),minor=True,size=ticksize)\n",
    "ax2.set_yticklabels(ax1.get_yticks(),minor=True,size=ticksize)\n",
    "ax2.set_xlabel('Number of Molecules',fontsize=fontsize)\n",
    "ax2.legend(fontsize=fontsize)\n",
    "ax2.set_title('ZINC dataset',fontsize=fontsize)\n",
    "\n",
    "fig.savefig('src/MPcount.eps')\n"
   ]
  }
 ],
 "metadata": {
  "kernelspec": {
   "display_name": "Python 3 (ipykernel)",
   "language": "python",
   "name": "python3"
  },
  "language_info": {
   "codemirror_mode": {
    "name": "ipython",
    "version": 3
   },
   "file_extension": ".py",
   "mimetype": "text/x-python",
   "name": "python",
   "nbconvert_exporter": "python",
   "pygments_lexer": "ipython3",
   "version": "3.7.10"
  },
  "vscode": {
   "interpreter": {
    "hash": "5f6f16596cc397a920de779c72f09a98b9bcf0fd2fe5dbc76214272883aa41c4"
   }
  }
 },
 "nbformat": 4,
 "nbformat_minor": 2
}
